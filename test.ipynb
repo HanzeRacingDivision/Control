{
 "cells": [
  {
   "cell_type": "code",
   "execution_count": 1,
   "outputs": [],
   "source": [
    "import matplotlib.pyplot as plt\n",
    "import numpy as np\n",
    "from scipy.interpolate import splprep, splev\n",
    "\n",
    "from Faster_Delaunay import delaunay_boundary\n",
    "from path_finding import path_finding\n",
    "from splines import generate_increment_on_path\n",
    "from control import control\n",
    "\n",
    "from typing import List"
   ],
   "metadata": {
    "collapsed": false
   }
  },
  {
   "cell_type": "code",
   "execution_count": 2,
   "outputs": [],
   "source": [
    "example = [{\"Label\": \"Yellow\", \"Zpos\": None, \"Ypos\": 1.66, \"Xpos\": -1.16, \"Time\": None},  # A\n",
    "           {\"Label\": \"Blue\", \"Zpos\": None, \"Ypos\": 1, \"Xpos\": 1, \"Time\": None},  # B\n",
    "           {\"Label\": \"Yellow\", \"Zpos\": None, \"Ypos\": 3.2, \"Xpos\": -0.14, \"Time\": None},  # C\n",
    "           {\"Label\": \"Blue\", \"Zpos\": None, \"Ypos\": 2.68, \"Xpos\": 1.64, \"Time\": None},  # D\n",
    "           {\"Label\": \"Yellow\", \"Zpos\": None, \"Ypos\": 4.62, \"Xpos\": 1.26, \"Time\": None},  # E\n",
    "           {\"Label\": \"Blue\", \"Zpos\": None, \"Ypos\": 3.42, \"Xpos\": 2.88, \"Time\": None},  # F\n",
    "           {\"Label\": \"Yellow\", \"Zpos\": None, \"Ypos\": 4.98, \"Xpos\": 3.16, \"Time\": None}]  # G"
   ],
   "metadata": {
    "collapsed": false
   }
  },
  {
   "cell_type": "code",
   "execution_count": 3,
   "outputs": [],
   "source": [
    "example_original = example.copy()"
   ],
   "metadata": {
    "collapsed": false
   }
  },
  {
   "cell_type": "code",
   "execution_count": 4,
   "outputs": [
    {
     "data": {
      "text/plain": "True"
     },
     "execution_count": 4,
     "metadata": {},
     "output_type": "execute_result"
    }
   ],
   "source": [
    "example == eval(str(example))"
   ],
   "metadata": {
    "collapsed": false
   }
  },
  {
   "cell_type": "code",
   "execution_count": 5,
   "outputs": [],
   "source": [
    "theta = control(example)"
   ],
   "metadata": {
    "collapsed": false
   }
  },
  {
   "cell_type": "code",
   "execution_count": 22,
   "outputs": [
    {
     "name": "stderr",
     "output_type": "stream",
     "text": [
      "/var/folders/r0/d0m6cs7x1fq_kvhchn4ktt5h0000gn/T/ipykernel_86480/2830910456.py:4: RuntimeWarning: divide by zero encountered in divide\n",
      "  theta = np.arctan(next_point[0] / next_point[1])\n"
     ]
    }
   ],
   "source": [
    "triangles, cones = delaunay_boundary(example)\n",
    "midpoints = path_finding(triangles, cones)\n",
    "next_point = generate_increment_on_path(midpoints)\n",
    "theta = np.arctan(next_point[0] / next_point[1])\n",
    "\n",
    "midpoints = np.concatenate([[[0, 0]], midpoints])\n",
    "mytck, _ = splprep([midpoints[:, 0], midpoints[:, 1]])\n",
    "xs, ys = splev(np.linspace(0, 1, num=10000), mytck)\n",
    "x_close, y_close = splev([0.05], mytck)"
   ],
   "metadata": {
    "collapsed": false
   }
  },
  {
   "cell_type": "code",
   "execution_count": 23,
   "outputs": [
    {
     "data": {
      "text/plain": "[array([0., 0., 0., 0., 1., 1., 1., 1.]),\n [array([-0.02060105, -0.31771248,  1.01769279,  3.00978354]),\n  array([0.01217667, 1.7677572 , 4.14626235, 4.21007963])],\n 3]"
     },
     "execution_count": 23,
     "metadata": {},
     "output_type": "execute_result"
    }
   ],
   "source": [
    "mytck"
   ],
   "metadata": {
    "collapsed": false
   }
  },
  {
   "cell_type": "code",
   "execution_count": 21,
   "outputs": [
    {
     "name": "stdout",
     "output_type": "stream",
     "text": [
      "x': 3.2743423868255355, y': 4.9323060831308725\n",
      "4.1305090072997235\n"
     ]
    },
    {
     "name": "stderr",
     "output_type": "stream",
     "text": [
      "/var/folders/r0/d0m6cs7x1fq_kvhchn4ktt5h0000gn/T/ipykernel_86480/2268367540.py:4: RuntimeWarning: invalid value encountered in arccos\n",
      "  angle = np.arccos(x_prime)\n"
     ]
    },
    {
     "data": {
      "text/plain": "<Figure size 640x480 with 1 Axes>",
      "image/png": "[encoded data removed]"
     },
     "metadata": {},
     "output_type": "display_data"
    }
   ],
   "source": [
    "xs_3, ys_3 = splev([0.45, 0.5, 0.55], mytck)\n",
    "x_prime, y_prime = splev([0.5], mytck, der=1)[:]\n",
    "x_prime, y_prime = x_prime[0], y_prime[0]\n",
    "angle = np.arccos(x_prime)\n",
    "print(f\"x': {x_prime}, y': {y_prime}\")\n",
    "xys = np.ndarray((xs_3.shape[0], 2))\n",
    "xys[:, 0] = xs_3\n",
    "xys[:, 1] = ys_3\n",
    "# print(np.dot((xs_3[1] - xs_3[0], ys_3[1] - ys_3[0]), (xs_3[2] - xs_3[1], ys_3[2] - ys_3[1])) / (np.linalg.norm((xs_3[1] - xs_3[0], ys_3[1] - ys_3[0])) * np.linalg.norm((xs_3[1] - xs_3[2], ys_3[1] - ys_3[2]))))\n",
    "print(np.arccos(np.dot((xs_3[1] - xs_3[0], ys_3[1] - ys_3[0]), (xs_3[2] - xs_3[1], ys_3[2] - ys_3[1])) / (np.linalg.norm((xs_3[1] - xs_3[0], ys_3[1] - ys_3[0])) * np.linalg.norm((xs_3[1] - xs_3[2], ys_3[1] - ys_3[2])))) * 180 / np.pi)\n",
    "xs_interval, ys_interval = splev(np.linspace(0.45, 0.55, num=10000), mytck)\n",
    "plt.plot(xs_interval, ys_interval, color=\"blue\")\n",
    "plt.plot(xs_3, ys_3, \"ro\")\n",
    "plt.show()"
   ],
   "metadata": {
    "collapsed": false
   }
  },
  {
   "cell_type": "code",
   "execution_count": 38,
   "outputs": [
    {
     "data": {
      "text/plain": "array([[1, 1],\n       [2, 2]])"
     },
     "execution_count": 38,
     "metadata": {},
     "output_type": "execute_result"
    }
   ],
   "source": [
    "np.dstack([[1,2], [1, 2]])[0]"
   ],
   "metadata": {
    "collapsed": false
   }
  },
  {
   "cell_type": "code",
   "execution_count": 55,
   "outputs": [
    {
     "data": {
      "text/plain": "array([[ 0.  ,  0.  ],\n       [-0.08,  1.33],\n       [ 0.43,  2.1 ],\n       [ 0.75,  2.94],\n       [ 1.45,  3.65],\n       [ 2.07,  4.02],\n       [ 3.02,  4.2 ]])"
     },
     "execution_count": 55,
     "metadata": {},
     "output_type": "execute_result"
    }
   ],
   "source": [
    "midpoints"
   ],
   "metadata": {
    "collapsed": false
   }
  },
  {
   "cell_type": "code",
   "execution_count": 86,
   "outputs": [
    {
     "data": {
      "text/plain": "<Figure size 640x480 with 1 Axes>",
      "image/png": "[encoded data removed]"
     },
     "metadata": {},
     "output_type": "display_data"
    }
   ],
   "source": [
    "yellows = np.array([np.array([yellow[\"Xpos\"], yellow[\"Ypos\"]]) for yellow in example if yellow[\"Label\"] == \"Yellow\"])\n",
    "blues = np.array([np.array([yellow[\"Xpos\"], yellow[\"Ypos\"]]) for yellow in example if yellow[\"Label\"] == \"Blue\"])\n",
    "inner_lines = [(0, 1), (1, 2), (2, 3), (3, 4), (4, 5), (5, 6)]\n",
    "boundary_lines = [(0, 2), (2, 4), (4, 6), (1, 3), (3, 5)]\n",
    "for i1, i2 in inner_lines:\n",
    "    plt.plot([example_original[i1][\"Xpos\"], example_original[i2][\"Xpos\"]], [example_original[i1][\"Ypos\"], example_original[i2][\"Ypos\"]], \"g\")\n",
    "for i1, i2 in boundary_lines:\n",
    "    plt.plot([example_original[i1][\"Xpos\"], example_original[i2][\"Xpos\"]], [example_original[i1][\"Ypos\"], example_original[i2][\"Ypos\"]], \"k\")\n",
    "plt.plot([example_original[1][\"Xpos\"], example_original[5][\"Xpos\"]], [example_original[1][\"Ypos\"], example_original[5][\"Ypos\"]], color=\"red\")\n",
    "plt.plot(xs, ys, color=\"orange\")\n",
    "plt.plot(x_close, y_close, color=\"m\", marker=\"o\")\n",
    "plt.plot(-np.linspace(0, 0.9, num=2), -(y_close / x_close) * np.linspace(0, 0.9, num=2), \"b\")\n",
    "plt.plot(midpoints[:, 0], midpoints[:, 1], \"rx\")\n",
    "plt.plot(yellows[:, 0], yellows[:, 1], \"yo\")\n",
    "plt.plot(blues[:, 0], blues[:, 1], \"bo\")\n",
    "plt.savefig(\"Poster_figure.png\", bbox_inches=\"tight\", dpi=600)\n",
    "plt.show()"
   ],
   "metadata": {
    "collapsed": false
   }
  },
  {
   "cell_type": "code",
   "execution_count": 28,
   "outputs": [],
   "source": [
    "def control(cones: List[dict]):\n",
    "    oranges = []\n",
    "    j = 0\n",
    "    for i in range(len(cones)):\n",
    "        cone = cones[i - j]\n",
    "        if cone[\"Label\"] == \"Orange\":\n",
    "            del cones[i - j]\n",
    "            oranges.append([cone[\"Xpos\"], cone[\"Ypos\"]])\n",
    "            j += 1\n",
    "\n",
    "    if len(oranges) == 2:\n",
    "        print(np.array(oranges).shape)\n",
    "        print(np.average(oranges, axis=0))\n",
    "\n",
    "    print(cones)\n",
    "    triangles, cones = delaunay_boundary(cones)\n",
    "    midpoints = path_finding(triangles, cones)\n",
    "    target_point = generate_increment_on_path(midpoints)\n",
    "    theta = np.arctan(target_point[0] / target_point[1])\n",
    "\n",
    "    return theta"
   ],
   "metadata": {
    "collapsed": false
   }
  },
  {
   "cell_type": "code",
   "execution_count": 8,
   "outputs": [
    {
     "name": "stdout",
     "output_type": "stream",
     "text": [
      "[0.35863381 0.85780434]\n",
      "[0.43 2.1 ]\n"
     ]
    }
   ],
   "source": [
    "print(next_point)\n",
    "print(midpoints[0])"
   ],
   "metadata": {
    "collapsed": false
   }
  },
  {
   "cell_type": "code",
   "execution_count": 12,
   "outputs": [
    {
     "data": {
      "text/plain": "43.9314391581934"
     },
     "execution_count": 12,
     "metadata": {},
     "output_type": "execute_result"
    }
   ],
   "source": [
    "abs(180 - theta * 360 / 2 * np.pi)"
   ],
   "metadata": {
    "collapsed": false
   }
  },
  {
   "cell_type": "code",
   "execution_count": 13,
   "outputs": [
    {
     "data": {
      "text/plain": "True"
     },
     "execution_count": 13,
     "metadata": {},
     "output_type": "execute_result"
    }
   ],
   "source": [
    "\"Blue\" == \"Blue\" == \"Blue\""
   ],
   "metadata": {
    "collapsed": false
   }
  },
  {
   "cell_type": "code",
   "execution_count": 23,
   "outputs": [
    {
     "data": {
      "text/plain": "array([[ 0.43,  2.1 ],\n       [-0.08,  1.33]])"
     },
     "execution_count": 23,
     "metadata": {},
     "output_type": "execute_result"
    }
   ],
   "source": [
    "midpoints"
   ],
   "metadata": {
    "collapsed": false
   }
  },
  {
   "cell_type": "code",
   "execution_count": 11,
   "outputs": [
    {
     "name": "stdout",
     "output_type": "stream",
     "text": [
      "2\n"
     ]
    }
   ],
   "source": [
    "from numpy.linalg import norm\n",
    "import numpy as np\n",
    "\n",
    "print([3, 2, 1].pop(1))"
   ],
   "metadata": {
    "collapsed": false
   }
  },
  {
   "cell_type": "code",
   "execution_count": 1,
   "outputs": [
    {
     "data": {
      "text/plain": "True"
     },
     "execution_count": 1,
     "metadata": {},
     "output_type": "execute_result"
    }
   ],
   "source": [
    "import math\n",
    "math.inf == float(\"inf\")"
   ],
   "metadata": {
    "collapsed": false
   }
  },
  {
   "cell_type": "code",
   "execution_count": null,
   "outputs": [],
   "source": [],
   "metadata": {
    "collapsed": false
   }
  }
 ],
 "metadata": {
  "kernelspec": {
   "display_name": "Python 3",
   "language": "python",
   "name": "python3"
  },
  "language_info": {
   "codemirror_mode": {
    "name": "ipython",
    "version": 2
   },
   "file_extension": ".py",
   "mimetype": "text/x-python",
   "name": "python",
   "nbconvert_exporter": "python",
   "pygments_lexer": "ipython2",
   "version": "2.7.6"
  }
 },
 "nbformat": 4,
 "nbformat_minor": 0
}
